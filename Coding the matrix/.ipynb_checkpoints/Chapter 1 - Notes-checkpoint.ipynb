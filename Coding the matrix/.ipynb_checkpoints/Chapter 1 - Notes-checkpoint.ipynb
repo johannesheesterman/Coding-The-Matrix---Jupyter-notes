{
 "cells": [
  {
   "cell_type": "code",
   "execution_count": 2,
   "metadata": {},
   "outputs": [],
   "source": [
    "import matplotlib.pyplot as plt\n",
    "from plotting import *\n",
    "from image import *\n",
    "import math"
   ]
  },
  {
   "cell_type": "markdown",
   "metadata": {},
   "source": [
    "The complex plain is a plain where real numbers are plotted on the X-axis and imaginary numbers are plotted on the Y-axis.\n",
    "\n",
    "By definition\n",
    "    **i**^2 = -1\n",
    "      \n",
    "where **i** is an imaginary number. \n",
    "\n",
    "(in Python **i** is written as **j**, the square root of -9 = 3**j**)"
   ]
  },
  {
   "cell_type": "markdown",
   "metadata": {},
   "source": [
    "The absolute value of a complex number z, writter |z| (in Python, abs(z)) is the distance from the origin to the corresponding point in the complex plane.\n",
    "By the Pythagorean Theorem, |z|^2 = (z.real)^2 + (z.imag)^2."
   ]
  },
  {
   "cell_type": "code",
   "execution_count": 3,
   "metadata": {},
   "outputs": [
    {
     "data": {
      "text/plain": [
       "True"
      ]
     },
     "execution_count": 3,
     "metadata": {},
     "output_type": "execute_result"
    },
    {
     "data": {
      "image/png": "[encoded data removed]",
      "text/plain": [
       "<matplotlib.figure.Figure at 0x1dbc9270f28>"
      ]
     },
     "metadata": {},
     "output_type": "display_data"
    }
   ],
   "source": [
    "z = 2+3j\n",
    "plt.plot(z.real, z.imag, 'b.')\n",
    "abs(z) == math.sqrt(z.real**2 + z.imag**2)"
   ]
  },
  {
   "cell_type": "markdown",
   "metadata": {},
   "source": [
    "The conjugate of a complex number Z is defined as (Z.real - Z.imag)"
   ]
  },
  {
   "cell_type": "code",
   "execution_count": 4,
   "metadata": {},
   "outputs": [
    {
     "data": {
      "text/plain": [
       "(3-4j)"
      ]
     },
     "execution_count": 4,
     "metadata": {},
     "output_type": "execute_result"
    }
   ],
   "source": [
    "(3+4j).conjugate()"
   ]
  },
  {
   "cell_type": "markdown",
   "metadata": {},
   "source": [
    "Using the fact that **i**^2 = -1, we can get a formula for |Z|^2 in terms of Z and the conjugate of Z:\n",
    "\n",
    "    |Z|^2 = Z * Z.conjugate()"
   ]
  },
  {
   "cell_type": "code",
   "execution_count": 89,
   "metadata": {},
   "outputs": [],
   "source": [
    "S = [2+2j, 3+2j, 1.75+1j, 2+1j, 2.25+1j, 2.5+1j, 2.75+1j, 3+1j, 3.25+1j]\n",
    "plot({(0.5j * z) + (2+-1j) for z in S})"
   ]
  },
  {
   "cell_type": "code",
   "execution_count": 6,
   "metadata": {},
   "outputs": [],
   "source": [
    "data = file2image('img01.png')"
   ]
  },
  {
   "cell_type": "code",
   "execution_count": 7,
   "metadata": {},
   "outputs": [],
   "source": [
    "plotted = []\n",
    "for x in range(0, 166):\n",
    "    for y in range(0, 189):\n",
    "        if(data[y][x][0] < 120):\n",
    "            plotted.append(x+(y*1j))"
   ]
  },
  {
   "cell_type": "code",
   "execution_count": 8,
   "metadata": {},
   "outputs": [],
   "source": [
    "plot(plotted, 190)"
   ]
  },
  {
   "cell_type": "markdown",
   "metadata": {},
   "source": [
    "\n",
    "1.4.7 Euler's formula"
   ]
  },
  {
   "cell_type": "markdown",
   "metadata": {},
   "source": [
    "Euler's formula states that, for any real number x, e^ix is the point z on the unit circle with argument x."
   ]
  },
  {
   "cell_type": "code",
   "execution_count": 44,
   "metadata": {},
   "outputs": [],
   "source": [
    "n = 5\n",
    "plot(math.e**(1j*i) for i in range(0,n))"
   ]
  },
  {
   "cell_type": "markdown",
   "metadata": {},
   "source": [
    "\n",
    "Task 1.4.17:"
   ]
  },
  {
   "cell_type": "code",
   "execution_count": 33,
   "metadata": {},
   "outputs": [],
   "source": [
    "n = 8\n",
    "w = math.e**(2*math.pi*1j/n)\n",
    "plot(w**i for i in range(0,n))"
   ]
  },
  {
   "cell_type": "markdown",
   "metadata": {},
   "source": [
    "1.4.10 Rotation by radians"
   ]
  },
  {
   "cell_type": "code",
   "execution_count": 82,
   "metadata": {},
   "outputs": [],
   "source": [
    "r = math.pi / 4\n",
    "plot((s*(math.e**(r*1j)) for s in S))"
   ]
  },
  {
   "cell_type": "code",
   "execution_count": 58,
   "metadata": {},
   "outputs": [],
   "source": [
    "plot((s*(math.e**(r*1j)) for s in plotted), 190)"
   ]
  },
  {
   "cell_type": "markdown",
   "metadata": {},
   "source": [
    "1.4.11 Combining operations"
   ]
  },
  {
   "cell_type": "code",
   "execution_count": 90,
   "metadata": {},
   "outputs": [],
   "source": [
    "def rotate(z, r):\n",
    "    return z * math.e**(r*1j)\n",
    "\n",
    "def scale(z, s):\n",
    "    return z * s\n",
    "\n",
    "def center(z, w = 189, h = 166):\n",
    "    return z + -((w/2) + (h*1j))\n",
    "    \n",
    "plot((scale(rotate(center(s), r), 0.5) for s in plotted), 190)"
   ]
  },
  {
   "cell_type": "code",
   "execution_count": null,
   "metadata": {},
   "outputs": [],
   "source": []
  }
 ],
 "metadata": {
  "kernelspec": {
   "display_name": "Python 3",
   "language": "python",
   "name": "python3"
  },
  "language_info": {
   "codemirror_mode": {
    "name": "ipython",
    "version": 3
   },
   "file_extension": ".py",
   "mimetype": "text/x-python",
   "name": "python",
   "nbconvert_exporter": "python",
   "pygments_lexer": "ipython3",
   "version": "3.6.4"
  }
 },
 "nbformat": 4,
 "nbformat_minor": 2
}
