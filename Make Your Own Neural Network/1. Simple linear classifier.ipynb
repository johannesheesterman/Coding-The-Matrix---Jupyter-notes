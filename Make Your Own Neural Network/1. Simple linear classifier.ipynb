{
 "cells": [
  {
   "cell_type": "code",
   "execution_count": 7,
   "metadata": {},
   "outputs": [],
   "source": [
    "import matplotlib.pyplot as plt\n",
    "import numpy as np"
   ]
  },
  {
   "cell_type": "code",
   "execution_count": 14,
   "metadata": {},
   "outputs": [],
   "source": [
    "trainingData = {\n",
    "    (3.,1.): 'g',\n",
    "    (3.2,1.3): 'g',\n",
    "    (1.,3.): 'r',\n",
    "    (1.2,3.1): 'r'\n",
    "}"
   ]
  },
  {
   "cell_type": "code",
   "execution_count": 15,
   "metadata": {},
   "outputs": [],
   "source": [
    "A = .25"
   ]
  },
  {
   "cell_type": "code",
   "execution_count": 16,
   "metadata": {},
   "outputs": [],
   "source": [
    "def draw_data(trainingData, A):\n",
    "    x = np.linspace(0,3)\n",
    "    y = A*x\n",
    "    tX,tY = zip(*trainingData.keys())\n",
    "    plt.scatter(tX,tY, c=trainingData.values())\n",
    "    plt.plot(x, y, 'r')\n",
    "    plt.show()\n",
    "    "
   ]
  },
  {
   "cell_type": "code",
   "execution_count": 17,
   "metadata": {},
   "outputs": [
    {
     "data": {
      "image/png": "[encoded data removed]",
      "text/plain": [
       "<Figure size 432x288 with 1 Axes>"
      ]
     },
     "metadata": {
      "needs_background": "light"
     },
     "output_type": "display_data"
    }
   ],
   "source": [
    "draw_data(trainingData, A)"
   ]
  },
  {
   "cell_type": "code",
   "execution_count": 18,
   "metadata": {},
   "outputs": [],
   "source": [
    "def train(data, a):\n",
    "    #margin = .1\n",
    "    A = a\n",
    "    learningRate = .5\n",
    "    for key in data.keys():\n",
    "        y = A*key[0]\n",
    "        target = key[1]\n",
    "        error = target - y\n",
    "        # Error = target - y = (Ax + (deltaA)x - Ax)\n",
    "        # deltaA = Error / x\n",
    "        deltaA = (error / key[0]) * learningRate\n",
    "        A = A+deltaA\n",
    "    return A\n",
    "        "
   ]
  },
  {
   "cell_type": "code",
   "execution_count": 19,
   "metadata": {
    "scrolled": true
   },
   "outputs": [
    {
     "data": {
      "image/png": "[encoded data removed]",
      "text/plain": [
       "<Figure size 432x288 with 1 Axes>"
      ]
     },
     "metadata": {
      "needs_background": "light"
     },
     "output_type": "display_data"
    }
   ],
   "source": [
    "A = train(trainingData, A)\n",
    "draw_data(trainingData, A)"
   ]
  }
 ],
 "metadata": {
  "kernelspec": {
   "display_name": "Python 3",
   "language": "python",
   "name": "python3"
  },
  "language_info": {
   "codemirror_mode": {
    "name": "ipython",
    "version": 3
   },
   "file_extension": ".py",
   "mimetype": "text/x-python",
   "name": "python",
   "nbconvert_exporter": "python",
   "pygments_lexer": "ipython3",
   "version": "3.7.1"
  }
 },
 "nbformat": 4,
 "nbformat_minor": 2
}
