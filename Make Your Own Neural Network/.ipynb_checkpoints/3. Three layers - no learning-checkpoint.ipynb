{
 "cells": [
  {
   "cell_type": "code",
   "execution_count": 2,
   "metadata": {},
   "outputs": [],
   "source": [
    "import math\n",
    "import numpy as np"
   ]
  },
  {
   "cell_type": "code",
   "execution_count": 3,
   "metadata": {},
   "outputs": [],
   "source": [
    "def sigmoid(x):\n",
    "    return 1 / (1 + math.e**-x)"
   ]
  },
  {
   "cell_type": "code",
   "execution_count": 50,
   "metadata": {},
   "outputs": [
    {
     "name": "stdout",
     "output_type": "stream",
     "text": [
      "[0.76133271 0.60348325 0.65021855]\n",
      "[0.72630335 0.70859807 0.77809706]\n"
     ]
    }
   ],
   "source": [
    "I = np.matrix([.9, .1, .8])\n",
    "W = np.array([\n",
    "    np.matrix([[.9, .3, .4], [.2, .8, .2], [.1, .5, .6]]),\n",
    "    np.matrix([[.3, .7, .5], [.6, .5, .2], [.8, .1, .9]])\n",
    "])\n",
    "\n",
    "for l in range(len(W)): # iterate layers\n",
    "    output = np.array([sigmoid(i) for i in np.array(( W[l] * I.T))]).flatten()\n",
    "    I = np.matrix(output)\n",
    "    print(output)\n"
   ]
  },
  {
   "cell_type": "code",
   "execution_count": null,
   "metadata": {},
   "outputs": [],
   "source": []
  }
 ],
 "metadata": {
  "kernelspec": {
   "display_name": "Python 3",
   "language": "python",
   "name": "python3"
  },
  "language_info": {
   "codemirror_mode": {
    "name": "ipython",
    "version": 3
   },
   "file_extension": ".py",
   "mimetype": "text/x-python",
   "name": "python",
   "nbconvert_exporter": "python",
   "pygments_lexer": "ipython3",
   "version": "3.7.1"
  }
 },
 "nbformat": 4,
 "nbformat_minor": 2
}
