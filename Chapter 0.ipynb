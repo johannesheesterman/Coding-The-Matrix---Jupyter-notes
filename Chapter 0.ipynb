{
 "cells": [
  {
   "cell_type": "markdown",
   "metadata": {},
   "source": [
    "### 0.3 the function"
   ]
  },
  {
   "cell_type": "code",
   "execution_count": 28,
   "metadata": {},
   "outputs": [
    {
     "data": {
      "text/plain": [
       "'whvw'"
      ]
     },
     "execution_count": 28,
     "metadata": {},
     "output_type": "execute_result"
    }
   ],
   "source": [
    "def f(x):\n",
    "    return ord(x) - 97\n",
    "\n",
    "def g(x):\n",
    "    return x + 3 % 26\n",
    "\n",
    "def h(x):\n",
    "    return chr(x + 97)\n",
    "\n",
    "def ceaserEncrypt(x):\n",
    "    result = \"\"\n",
    "    for c in list(x):\n",
    "        result += h(g(f(c)))\n",
    "    return result\n",
    "\n",
    "ceaserEncrypt('test')"
   ]
  },
  {
   "cell_type": "code",
   "execution_count": null,
   "metadata": {},
   "outputs": [],
   "source": []
  }
 ],
 "metadata": {
  "kernelspec": {
   "display_name": "Python 3",
   "language": "python",
   "name": "python3"
  },
  "language_info": {
   "codemirror_mode": {
    "name": "ipython",
    "version": 3
   },
   "file_extension": ".py",
   "mimetype": "text/x-python",
   "name": "python",
   "nbconvert_exporter": "python",
   "pygments_lexer": "ipython3",
   "version": "3.6.4"
  }
 },
 "nbformat": 4,
 "nbformat_minor": 2
}
